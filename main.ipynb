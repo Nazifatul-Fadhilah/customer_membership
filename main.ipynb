{
 "cells": [
  {
   "cell_type": "code",
   "execution_count": 1,
   "metadata": {},
   "outputs": [],
   "source": [
    "from math import sqrt\n",
    "from tabulate import tabulate"
   ]
  },
  {
   "cell_type": "code",
   "execution_count": 2,
   "metadata": {},
   "outputs": [],
   "source": [
    "class Membership:\n",
    "# data member\n",
    "  user_data = {\n",
    "                  \"Sumbul\": \"Platinum\",\n",
    "                  \"Ana\": \"Gold\",\n",
    "                  \"Cahya\": \"Platinum\"\n",
    "  }\n",
    "# data membership\n",
    "  membership = {\n",
    "                  'Membership': ['Platinum','Gold','Silver'],\n",
    "                  'Discount' : ['15%','10%','8%'],\n",
    "                  'Another Benefit' : [\"Benefit Gold + Silver + Cashback max. 30%\",\"Benefit Silver + Voucher Ojek Online\",\"Voucher Makanan\"]\n",
    "      }\n",
    "\n",
    "  requirements = {\n",
    "      'Membership': ['Platinum','Gold','Silver'],\n",
    "      'Monthly Expense (juta)' : [8,6,5],\n",
    "      'Monthly Income (juta)': [15,10,7]\n",
    "}\n",
    "  \n",
    "  def __init__(self,username):\n",
    "    \"\"\"\n",
    "    Fungsi ini untuk menginisiasi objek user\n",
    "\n",
    "    input: username (str)\n",
    "    \"\"\"\n",
    "    self.username = username\n",
    "  \n",
    "  def show_benefit(self):\n",
    "    \"\"\"\n",
    "    Fungsi ini untuk menampilkan all membership benefit\n",
    "    \"\"\"\n",
    "\n",
    "    print(f\"Benefit Membership PacCommerce\\n\")\n",
    "    print(tabulate(self.membership,headers='keys',stralign='center'))\n",
    "\n",
    "    # print(f\"{self.headers}\")\n",
    "    # print('-'*50)\n",
    "    # for row in range(len(self.list_benefit)):\n",
    "    #   print(self.list_benefit[row])\n",
    "   \n",
    "\n",
    "  \n",
    "   \n",
    "\n",
    "\n"
   ]
  },
  {
   "cell_type": "code",
   "execution_count": 3,
   "metadata": {},
   "outputs": [],
   "source": [
    "fadhilah = Membership(\"Fadhilah\")"
   ]
  },
  {
   "cell_type": "code",
   "execution_count": 4,
   "metadata": {},
   "outputs": [
    {
     "data": {
      "text/plain": [
       "'Fadhilah'"
      ]
     },
     "execution_count": 4,
     "metadata": {},
     "output_type": "execute_result"
    }
   ],
   "source": [
    "fadhilah.username"
   ]
  },
  {
   "cell_type": "code",
   "execution_count": 5,
   "metadata": {},
   "outputs": [
    {
     "data": {
      "text/plain": [
       "{'Membership': ['Platinum', 'Gold', 'Silver'],\n",
       " 'Discount': ['15%', '10%', '8%'],\n",
       " 'Another Benefit': ['Benefit Gold + Silver + Cashback max. 30%',\n",
       "  'Benefit Silver + Voucher Ojek Online',\n",
       "  'Voucher Makanan']}"
      ]
     },
     "execution_count": 5,
     "metadata": {},
     "output_type": "execute_result"
    }
   ],
   "source": [
    "fadhilah.membership"
   ]
  },
  {
   "cell_type": "code",
   "execution_count": 6,
   "metadata": {},
   "outputs": [
    {
     "name": "stdout",
     "output_type": "stream",
     "text": [
      "Benefit Membership PacCommerce\n",
      "\n",
      " Membership    Discount                Another Benefit\n",
      "------------  ----------  -----------------------------------------\n",
      "  Platinum       15%      Benefit Gold + Silver + Cashback max. 30%\n",
      "    Gold         10%        Benefit Silver + Voucher Ojek Online\n",
      "   Silver         8%                   Voucher Makanan\n"
     ]
    }
   ],
   "source": [
    "fadhilah.show_benefit()"
   ]
  }
 ],
 "metadata": {
  "kernelspec": {
   "display_name": "Python 3",
   "language": "python",
   "name": "python3"
  },
  "language_info": {
   "codemirror_mode": {
    "name": "ipython",
    "version": 3
   },
   "file_extension": ".py",
   "mimetype": "text/x-python",
   "name": "python",
   "nbconvert_exporter": "python",
   "pygments_lexer": "ipython3",
   "version": "3.12.2"
  }
 },
 "nbformat": 4,
 "nbformat_minor": 2
}
